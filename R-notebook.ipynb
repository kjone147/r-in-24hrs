{
 "cells": [
  {
   "cell_type": "code",
   "execution_count": 1,
   "id": "3b994d71-4776-4945-af24-83d410a4886d",
   "metadata": {},
   "outputs": [
    {
     "data": {
      "text/html": [
       "21"
      ],
      "text/latex": [
       "21"
      ],
      "text/markdown": [
       "21"
      ],
      "text/plain": [
       "[1] 21"
      ]
     },
     "metadata": {},
     "output_type": "display_data"
    }
   ],
   "source": [
    "## addOne Function -- note that \"x\" within function is in \"temporary memory\"\n",
    "addOne <- function(x) {\n",
    "  x+1\n",
    "}\n",
    "addOne(x = 20)"
   ]
  },
  {
   "cell_type": "code",
   "execution_count": 2,
   "id": "5b7ed949-8326-444b-8ff3-afdde2c3efc3",
   "metadata": {},
   "outputs": [
    {
     "data": {
      "text/html": [
       "28"
      ],
      "text/latex": [
       "28"
      ],
      "text/markdown": [
       "28"
      ],
      "text/plain": [
       "[1] 28"
      ]
     },
     "metadata": {},
     "output_type": "display_data"
    }
   ],
   "source": [
    "## addNumber Function\n",
    "addNumber <- function(x, number) {\n",
    "  x+number\n",
    "}\n",
    "addNumber(x = 20, number = 8)"
   ]
  },
  {
   "cell_type": "code",
   "execution_count": 3,
   "id": "451cf83a-0002-4204-a64a-81f28997f85a",
   "metadata": {},
   "outputs": [
    {
     "data": {
      "text/html": [
       "1"
      ],
      "text/latex": [
       "1"
      ],
      "text/markdown": [
       "1"
      ],
      "text/plain": [
       "[1] 1"
      ]
     },
     "metadata": {},
     "output_type": "display_data"
    }
   ],
   "source": [
    "## assigning default values to addNumber\n",
    "addNumber <- function(x = 1, number = 0) {\n",
    "  x+number\n",
    "}\n",
    "addNumber() "
   ]
  },
  {
   "cell_type": "code",
   "execution_count": 4,
   "id": "06cbf762-b253-406e-ab3a-31d1ba0e66ed",
   "metadata": {},
   "outputs": [
    {
     "name": "stdout",
     "output_type": "stream",
     "text": [
      "[1]  2  4  6  8 10\n",
      "[1] 0 0 0 0 0\n"
     ]
    }
   ],
   "source": [
    "## returning more than one value in list form\n",
    "plusAndMinus <- function(x, y) {\n",
    "  PLUS <- x + y\n",
    "  MINUS <- x - y\n",
    "  list(plus = PLUS, minus = MINUS)\n",
    "}\n",
    "output = plusAndMinus(x = 1:5, y=1:5)\n",
    "print(output$plus)\n",
    "print(output$minus)"
   ]
  },
  {
   "cell_type": "code",
   "execution_count": 5,
   "id": "92b2d5a9-1ce6-4d57-b93f-d7795588504c",
   "metadata": {},
   "outputs": [
    {
     "data": {
      "text/html": [
       "<style>\n",
       ".dl-inline {width: auto; margin:0; padding: 0}\n",
       ".dl-inline>dt, .dl-inline>dd {float: none; width: auto; display: inline-block}\n",
       ".dl-inline>dt::after {content: \":\\0020\"; padding-right: .5ex}\n",
       ".dl-inline>dt:not(:first-of-type) {padding-left: .5ex}\n",
       "</style><dl class=dl-inline><dt>Mean</dt><dd>0.142</dd><dt>Median</dt><dd>0.221</dd><dt>Min</dt><dd>-3.104</dd><dt>Max</dt><dd>3.486</dd></dl>\n"
      ],
      "text/latex": [
       "\\begin{description*}\n",
       "\\item[Mean] 0.142\n",
       "\\item[Median] 0.221\n",
       "\\item[Min] -3.104\n",
       "\\item[Max] 3.486\n",
       "\\end{description*}\n"
      ],
      "text/markdown": [
       "Mean\n",
       ":   0.142Median\n",
       ":   0.221Min\n",
       ":   -3.104Max\n",
       ":   3.486\n",
       "\n"
      ],
      "text/plain": [
       "  Mean Median    Min    Max \n",
       " 0.142  0.221 -3.104  3.486 "
      ]
     },
     "metadata": {},
     "output_type": "display_data"
    }
   ],
   "source": [
    "## returning more than one value in vector form\n",
    "summaryFun <- function(vec, digits = 3) {\n",
    "  # Create summary statistics\n",
    "  theMean <- mean(vec)\n",
    "  theMedian <- median(vec)\n",
    "  theMin <- min(vec)\n",
    "  theMax <- max(vec)\n",
    "  # Combine into single vector\n",
    "  output <- c(Mean=theMean, Median=theMedian, Min=theMin, Max=theMax)\n",
    "  round(output, digits = digits)\n",
    "}\n",
    "X <- rnorm(50)\n",
    "summaryFun(X)"
   ]
  },
  {
   "cell_type": "code",
   "execution_count": 6,
   "id": "4276d4f9-04bd-4282-b502-1e79af16b43e",
   "metadata": {},
   "outputs": [
    {
     "name": "stdout",
     "output_type": "stream",
     "text": [
      "X is Positive"
     ]
    }
   ],
   "source": [
    "## IF/Else Statement within function\n",
    "posOrNeg <- function(X) {\n",
    "  \n",
    "  if (X>0) {\n",
    "    cat(\"X is Positive\")\n",
    "  } else if (X==0) {\n",
    "    cat(\"X is Zero\")\n",
    "  } else {\n",
    "    cat(\"X is Negative\")\n",
    "  }\n",
    "  \n",
    "}\n",
    "posOrNeg(10)"
   ]
  },
  {
   "cell_type": "code",
   "execution_count": 7,
   "id": "d3a1ee19-0f11-48f9-a458-f7b30d158e26",
   "metadata": {},
   "outputs": [
    {
     "name": "stdout",
     "output_type": "stream",
     "text": [
      "[1] 1 2 3 4 5\n",
      "[1] 0.0000000 0.6931472 1.0986123 1.3862944 1.6094379\n"
     ]
    }
   ],
   "source": [
    "## Logical Inputs - take log of vector if user wants it\n",
    "logVector <- function(vec, logiIt = FALSE){\n",
    "  if (logiIt == TRUE){\n",
    "    vec <- log(vec)\n",
    "  } else {\n",
    "    vec <- vec\n",
    "  }\n",
    "  vec\n",
    "}\n",
    "print(logVector(1:5, logiIt = FALSE))\n",
    "print(logVector(1:5, logiIt = TRUE))"
   ]
  },
  {
   "cell_type": "code",
   "execution_count": null,
   "id": "534e98b4-d9bc-4de3-979b-8a31236139c0",
   "metadata": {},
   "outputs": [],
   "source": []
  }
 ],
 "metadata": {
  "kernelspec": {
   "display_name": "R",
   "language": "R",
   "name": "ir"
  },
  "language_info": {
   "codemirror_mode": "r",
   "file_extension": ".r",
   "mimetype": "text/x-r-source",
   "name": "R",
   "pygments_lexer": "r",
   "version": "4.0.2"
  }
 },
 "nbformat": 4,
 "nbformat_minor": 5
}
