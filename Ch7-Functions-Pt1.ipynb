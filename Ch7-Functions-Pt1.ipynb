{
 "cells": [
  {
   "cell_type": "markdown",
   "id": "47dcf30e-57b6-4932-80eb-3ddfa4cde94d",
   "metadata": {},
   "source": [
    "# Exercises"
   ]
  },
  {
   "cell_type": "code",
   "execution_count": 1,
   "id": "a08b184d-c573-4a91-8a30-10f81d3e5c74",
   "metadata": {},
   "outputs": [
    {
     "data": {
      "text/html": [
       "21"
      ],
      "text/latex": [
       "21"
      ],
      "text/markdown": [
       "21"
      ],
      "text/plain": [
       "[1] 21"
      ]
     },
     "metadata": {},
     "output_type": "display_data"
    }
   ],
   "source": [
    "## addOne Function -- note that \"x\" within function is in \"temporary memory\"\n",
    "addOne <- function(x) {\n",
    "  x+1\n",
    "}\n",
    "addOne(x = 20)"
   ]
  },
  {
   "cell_type": "code",
   "execution_count": 2,
   "id": "5b7ed949-8326-444b-8ff3-afdde2c3efc3",
   "metadata": {},
   "outputs": [
    {
     "data": {
      "text/html": [
       "28"
      ],
      "text/latex": [
       "28"
      ],
      "text/markdown": [
       "28"
      ],
      "text/plain": [
       "[1] 28"
      ]
     },
     "metadata": {},
     "output_type": "display_data"
    }
   ],
   "source": [
    "## addNumber Function\n",
    "addNumber <- function(x, number) {\n",
    "  x+number\n",
    "}\n",
    "addNumber(x = 20, number = 8)"
   ]
  },
  {
   "cell_type": "code",
   "execution_count": 3,
   "id": "451cf83a-0002-4204-a64a-81f28997f85a",
   "metadata": {},
   "outputs": [
    {
     "data": {
      "text/html": [
       "1"
      ],
      "text/latex": [
       "1"
      ],
      "text/markdown": [
       "1"
      ],
      "text/plain": [
       "[1] 1"
      ]
     },
     "metadata": {},
     "output_type": "display_data"
    }
   ],
   "source": [
    "## assigning default values to addNumber\n",
    "addNumber <- function(x = 1, number = 0) {\n",
    "  x+number\n",
    "}\n",
    "addNumber() "
   ]
  },
  {
   "cell_type": "code",
   "execution_count": 4,
   "id": "06cbf762-b253-406e-ab3a-31d1ba0e66ed",
   "metadata": {},
   "outputs": [
    {
     "name": "stdout",
     "output_type": "stream",
     "text": [
      "[1]  2  4  6  8 10\n",
      "[1] 0 0 0 0 0\n"
     ]
    }
   ],
   "source": [
    "## returning more than one value in list form\n",
    "plusAndMinus <- function(x, y) {\n",
    "  PLUS <- x + y\n",
    "  MINUS <- x - y\n",
    "  list(plus = PLUS, minus = MINUS)\n",
    "}\n",
    "output = plusAndMinus(x = 1:5, y=1:5)\n",
    "print(output$plus)\n",
    "print(output$minus)"
   ]
  },
  {
   "cell_type": "code",
   "execution_count": 5,
   "id": "92b2d5a9-1ce6-4d57-b93f-d7795588504c",
   "metadata": {},
   "outputs": [
    {
     "data": {
      "text/html": [
       "<style>\n",
       ".dl-inline {width: auto; margin:0; padding: 0}\n",
       ".dl-inline>dt, .dl-inline>dd {float: none; width: auto; display: inline-block}\n",
       ".dl-inline>dt::after {content: \":\\0020\"; padding-right: .5ex}\n",
       ".dl-inline>dt:not(:first-of-type) {padding-left: .5ex}\n",
       "</style><dl class=dl-inline><dt>Mean</dt><dd>0.293</dd><dt>Median</dt><dd>0.235</dd><dt>Min</dt><dd>-2.418</dd><dt>Max</dt><dd>2.788</dd></dl>\n"
      ],
      "text/latex": [
       "\\begin{description*}\n",
       "\\item[Mean] 0.293\n",
       "\\item[Median] 0.235\n",
       "\\item[Min] -2.418\n",
       "\\item[Max] 2.788\n",
       "\\end{description*}\n"
      ],
      "text/markdown": [
       "Mean\n",
       ":   0.293Median\n",
       ":   0.235Min\n",
       ":   -2.418Max\n",
       ":   2.788\n",
       "\n"
      ],
      "text/plain": [
       "  Mean Median    Min    Max \n",
       " 0.293  0.235 -2.418  2.788 "
      ]
     },
     "metadata": {},
     "output_type": "display_data"
    }
   ],
   "source": [
    "## returning more than one value in vector form\n",
    "summaryFun <- function(vec, digits = 3) {\n",
    "  # Create summary statistics\n",
    "  theMean <- mean(vec)\n",
    "  theMedian <- median(vec)\n",
    "  theMin <- min(vec)\n",
    "  theMax <- max(vec)\n",
    "  # Combine into single vector\n",
    "  output <- c(Mean=theMean, Median=theMedian, Min=theMin, Max=theMax)\n",
    "  round(output, digits = digits)\n",
    "}\n",
    "X <- rnorm(50)\n",
    "summaryFun(X)"
   ]
  },
  {
   "cell_type": "code",
   "execution_count": 6,
   "id": "4276d4f9-04bd-4282-b502-1e79af16b43e",
   "metadata": {},
   "outputs": [
    {
     "name": "stdout",
     "output_type": "stream",
     "text": [
      "X is Positive"
     ]
    }
   ],
   "source": [
    "## IF/Else Statement within function\n",
    "posOrNeg <- function(X) {\n",
    "  \n",
    "  if (X>0) {\n",
    "    cat(\"X is Positive\")\n",
    "  } else if (X==0) {\n",
    "    cat(\"X is Zero\")\n",
    "  } else {\n",
    "    cat(\"X is Negative\")\n",
    "  }\n",
    "  \n",
    "}\n",
    "posOrNeg(10)"
   ]
  },
  {
   "cell_type": "code",
   "execution_count": 7,
   "id": "d3a1ee19-0f11-48f9-a458-f7b30d158e26",
   "metadata": {},
   "outputs": [
    {
     "name": "stdout",
     "output_type": "stream",
     "text": [
      "[1] 1 2 3 4 5\n",
      "[1] 0.0000000 0.6931472 1.0986123 1.3862944 1.6094379\n"
     ]
    }
   ],
   "source": [
    "## Logical Inputs - take log of vector if user wants it\n",
    "logVector <- function(vec, logiIt = FALSE){\n",
    "  if (logiIt == TRUE){\n",
    "    vec <- log(vec)\n",
    "  } else {\n",
    "    vec <- vec\n",
    "  }\n",
    "  vec\n",
    "}\n",
    "print(logVector(1:5, logiIt = FALSE))\n",
    "print(logVector(1:5, logiIt = TRUE))"
   ]
  },
  {
   "cell_type": "code",
   "execution_count": 8,
   "id": "534e98b4-d9bc-4de3-979b-8a31236139c0",
   "metadata": {},
   "outputs": [
    {
     "name": "stdout",
     "output_type": "stream",
     "text": [
      "[1] FALSE FALSE FALSE  TRUE  TRUE\n",
      "[1] FALSE\n",
      "[1] TRUE\n"
     ]
    }
   ],
   "source": [
    "# Using all and any\n",
    "X <- -2:2\n",
    "print(X > 0) # Is X greater than 0?\n",
    "print(all(X > 0)) # Are all values of X greater than 0?\n",
    "print(any(X > 0)) # Are any values of X greater than 0?"
   ]
  },
  {
   "cell_type": "code",
   "execution_count": 9,
   "id": "e7c733c1-a34a-4d31-b96d-c20320128083",
   "metadata": {},
   "outputs": [
    {
     "name": "stdout",
     "output_type": "stream",
     "text": [
      "X is NOT between 1 and 10"
     ]
    }
   ],
   "source": [
    "# Mixing conditions\n",
    "betweenValues <- function(X, Min = 1, Max =10) {\n",
    "    if (X >= Min & X <= Max) cat(paste(\"X is between\", Min, \"and\", Max))\n",
    "    if (X < Min | X > Max) cat(paste(\"X is NOT between\", Min, \"and\", Max))\n",
    "    }\n",
    "betweenValues(X = -10)"
   ]
  },
  {
   "cell_type": "markdown",
   "id": "a8a7b042-6647-46c4-97bd-4a8fb67adf43",
   "metadata": {},
   "source": [
    "### Using \"control\" versions of the & (&&) and | (||) operators\n",
    "\n",
    "When you use a single &, the conditions each side of the & are evaluated and the\n",
    "outputs compared to see whether both conditions are met. Therefore, if you have\n",
    "test1 & test2, both test1 and test2 are evaluated, then they are compared.\n",
    "If instead you use the “control” && (for example, in test1 && test2), then the\n",
    "first condition (test1) is evaluated, and the second condition (test2) is only\n",
    "evaluated if the first condition is TRUE.\n"
   ]
  },
  {
   "cell_type": "code",
   "execution_count": 10,
   "id": "db71f195-c375-4f73-b3e1-948406063738",
   "metadata": {},
   "outputs": [
    {
     "name": "stdout",
     "output_type": "stream",
     "text": [
      "Numbers not in range"
     ]
    }
   ],
   "source": [
    "## This will only evaluate second condition IF the first condition is inconclusive\n",
    "logVector <- function(vec) {\n",
    "    if (all(vec > 0) && all(log(vec) <= 2)) cat(\"Numbers in range\")\n",
    "    else cat(\"Numbers not in range\")\n",
    "    }\n",
    "logVector(-2:2)"
   ]
  },
  {
   "cell_type": "code",
   "execution_count": 11,
   "id": "08706124-3256-43a4-915a-625284a76b9b",
   "metadata": {},
   "outputs": [
    {
     "data": {
      "text/html": [
       "<style>\n",
       ".list-inline {list-style: none; margin:0; padding: 0}\n",
       ".list-inline>li {display: inline-block}\n",
       ".list-inline>li:not(:last-child)::after {content: \"\\00b7\"; padding: 0 .5ex}\n",
       "</style>\n",
       "<ol class=list-inline><li>-2.30258509299405</li><li>-2.30258509299405</li><li>-2.30258509299405</li><li>0</li><li>0.693147180559945</li></ol>\n"
      ],
      "text/latex": [
       "\\begin{enumerate*}\n",
       "\\item -2.30258509299405\n",
       "\\item -2.30258509299405\n",
       "\\item -2.30258509299405\n",
       "\\item 0\n",
       "\\item 0.693147180559945\n",
       "\\end{enumerate*}\n"
      ],
      "text/markdown": [
       "1. -2.30258509299405\n",
       "2. -2.30258509299405\n",
       "3. -2.30258509299405\n",
       "4. 0\n",
       "5. 0.693147180559945\n",
       "\n",
       "\n"
      ],
      "text/plain": [
       "[1] -2.3025851 -2.3025851 -2.3025851  0.0000000  0.6931472"
      ]
     },
     "metadata": {},
     "output_type": "display_data"
    }
   ],
   "source": [
    "# Returning Early\n",
    "verboseFunction <- function(X) {\n",
    "    if (all(X > 0)) return(X) # Return early if all values of X are > 0\n",
    "    #  Carry on if not returned already\n",
    "    X [ X <= 0 ] <- 0.1 \n",
    "    log(X)\n",
    "}\n",
    "verboseFunction(-2:2)"
   ]
  },
  {
   "cell_type": "markdown",
   "id": "a32916d5-225a-43e1-b744-5d48e8cd880d",
   "metadata": {},
   "source": [
    "# Activities"
   ]
  },
  {
   "cell_type": "code",
   "execution_count": 12,
   "id": "f61945d8-6336-4b41-aa04-a3969592bcc2",
   "metadata": {},
   "outputs": [
    {
     "data": {
      "text/html": [
       "10"
      ],
      "text/latex": [
       "10"
      ],
      "text/markdown": [
       "10"
      ],
      "text/plain": [
       "[1] 10"
      ]
     },
     "metadata": {},
     "output_type": "display_data"
    }
   ],
   "source": [
    "# Activity 1\n",
    "activity_1_function <- function(X = 0, Y = 0){\n",
    "    result <- X + Y\n",
    "    return(result)\n",
    "    }\n",
    "activity_1_function(X = 6, Y = 4)"
   ]
  },
  {
   "cell_type": "code",
   "execution_count": 13,
   "id": "a3e02bec-6713-4714-b9e3-645e2b34c953",
   "metadata": {},
   "outputs": [
    {
     "data": {
      "text/html": [
       "6"
      ],
      "text/latex": [
       "6"
      ],
      "text/markdown": [
       "6"
      ],
      "text/plain": [
       "[1] 6"
      ]
     },
     "metadata": {},
     "output_type": "display_data"
    }
   ],
   "source": [
    "# Activity 2\n",
    "activity_2_function <- function(X, Y = 0){\n",
    "    result <- X + Y\n",
    "    return(result)\n",
    "    }\n",
    "activity_2_function(X = 6)"
   ]
  },
  {
   "cell_type": "code",
   "execution_count": 14,
   "id": "1b18a335-8835-40de-a6c4-9a62cac83c50",
   "metadata": {},
   "outputs": [
    {
     "data": {
      "text/html": [
       "<style>\n",
       ".dl-inline {width: auto; margin:0; padding: 0}\n",
       ".dl-inline>dt, .dl-inline>dd {float: none; width: auto; display: inline-block}\n",
       ".dl-inline>dt::after {content: \":\\0020\"; padding-right: .5ex}\n",
       ".dl-inline>dt:not(:first-of-type) {padding-left: .5ex}\n",
       "</style><dl class=dl-inline><dt>firstVal</dt><dd>1</dd><dt>lastVal</dt><dd>5</dd></dl>\n"
      ],
      "text/latex": [
       "\\begin{description*}\n",
       "\\item[firstVal] 1\n",
       "\\item[lastVal] 5\n",
       "\\end{description*}\n"
      ],
      "text/markdown": [
       "firstVal\n",
       ":   1lastVal\n",
       ":   5\n",
       "\n"
      ],
      "text/plain": [
       "firstVal  lastVal \n",
       "       1        5 "
      ]
     },
     "metadata": {},
     "output_type": "display_data"
    }
   ],
   "source": [
    "# Activity 3\n",
    "firstLast <- function(vec){\n",
    "    firstVal <- vec[1]\n",
    "    lastVal <- vec[length(vec)]\n",
    "    return(c(firstVal = firstVal, lastVal = lastVal))\n",
    "    }\n",
    "firstLast(vec = c(1,2,3,4,5))"
   ]
  },
  {
   "cell_type": "code",
   "execution_count": 15,
   "id": "4baa2653-1b51-4a2f-a731-382505dcf5e3",
   "metadata": {},
   "outputs": [
    {
     "data": {
      "text/html": [
       "1"
      ],
      "text/latex": [
       "1"
      ],
      "text/markdown": [
       "1"
      ],
      "text/plain": [
       "[1] 1"
      ]
     },
     "metadata": {},
     "output_type": "display_data"
    }
   ],
   "source": [
    "# Activity 4\n",
    "firstLast <- function(vec){\n",
    "    if (length(vec)==1){\n",
    "        return(vec[1])\n",
    "        } else {\n",
    "        firstVal <- vec[1]\n",
    "        lastVal <- vec[length(vec)]\n",
    "        return(c(firstVal = firstVal, lastVal = lastVal))\n",
    "        }\n",
    "    }\n",
    "firstLast(vec = c(1))"
   ]
  },
  {
   "cell_type": "code",
   "execution_count": 16,
   "id": "76634433-2551-4687-a15b-38904eb06c0f",
   "metadata": {},
   "outputs": [
    {
     "name": "stdout",
     "output_type": "stream",
     "text": [
      "All values are less than 0"
     ]
    }
   ],
   "source": [
    "# Activity 5\n",
    "firstLast <- function(vec){\n",
    "    if (length(vec)==1) {\n",
    "        return(vec[1])\n",
    "    }\n",
    "    if (all(vec<0)) {\n",
    "        cat(\"All values are less than 0\")\n",
    "    } else {\n",
    "        firstVal <- vec[1]\n",
    "        lastVal <- vec[length(vec)]\n",
    "        return(c(firstVal = firstVal, lastVal = lastVal))\n",
    "    }\n",
    "}\n",
    "firstLast(vec = c(-1,-2, -3))"
   ]
  },
  {
   "cell_type": "code",
   "execution_count": 17,
   "id": "eac107b4-725e-46a4-a7c5-ad64ff158aef",
   "metadata": {},
   "outputs": [
    {
     "data": {
      "text/html": [
       "<style>\n",
       ".dl-inline {width: auto; margin:0; padding: 0}\n",
       ".dl-inline>dt, .dl-inline>dd {float: none; width: auto; display: inline-block}\n",
       ".dl-inline>dt::after {content: \":\\0020\"; padding-right: .5ex}\n",
       ".dl-inline>dt:not(:first-of-type) {padding-left: .5ex}\n",
       "</style><dl class=dl-inline><dt>firstVal</dt><dd>-1</dd><dt>lastVal</dt><dd>-5</dd><dt>numMissing</dt><dd>1</dd></dl>\n"
      ],
      "text/latex": [
       "\\begin{description*}\n",
       "\\item[firstVal] -1\n",
       "\\item[lastVal] -5\n",
       "\\item[numMissing] 1\n",
       "\\end{description*}\n"
      ],
      "text/markdown": [
       "firstVal\n",
       ":   -1lastVal\n",
       ":   -5numMissing\n",
       ":   1\n",
       "\n"
      ],
      "text/plain": [
       "  firstVal    lastVal numMissing \n",
       "        -1         -5          1 "
      ]
     },
     "metadata": {},
     "output_type": "display_data"
    }
   ],
   "source": [
    "# Activty 6\n",
    "firstLast <- function(vec){\n",
    "    testMissing = is.na(vec)\n",
    "    firstVal <- vec[1]\n",
    "    lastVal <- vec[length(vec)]\n",
    "    if (any(testMissing)) {\n",
    "        numMissing = sum(is.na(vec))\n",
    "        return(c(firstVal = firstVal, lastVal = lastVal, numMissing = numMissing))\n",
    "    } else {\n",
    "        return(c(firstVal = firstVal, lastVal = lastVal))\n",
    "    }\n",
    "}\n",
    "firstLast(vec = c(-1,-2, NA, -5))"
   ]
  },
  {
   "cell_type": "code",
   "execution_count": null,
   "id": "8cb837b7-2438-4949-a75a-89ccac4cffab",
   "metadata": {},
   "outputs": [],
   "source": []
  }
 ],
 "metadata": {
  "kernelspec": {
   "display_name": "R",
   "language": "R",
   "name": "ir"
  },
  "language_info": {
   "codemirror_mode": "r",
   "file_extension": ".r",
   "mimetype": "text/x-r-source",
   "name": "R",
   "pygments_lexer": "r",
   "version": "4.0.2"
  }
 },
 "nbformat": 4,
 "nbformat_minor": 5
}
